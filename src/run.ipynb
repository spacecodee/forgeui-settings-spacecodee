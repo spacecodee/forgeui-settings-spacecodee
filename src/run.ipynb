{
 "cells": [
  {
   "cell_type": "code",
   "execution_count": 1,
   "id": "d61d10f26c89a223",
   "metadata": {
    "ExecuteTime": {
     "end_time": "2024-09-29T19:06:23.997703Z",
     "start_time": "2024-09-29T19:06:23.956928Z"
    }
   },
   "outputs": [],
   "source": [
    "# Configure the workspace path\n",
    "# importing the .env file and setting the workspace path\n",
    "import os\n",
    "from dotenv import load_dotenv\n",
    "\n",
    "load_dotenv()\n",
    "\n",
    "# setting the workspace path\n",
    "WORKSPACE = os.getenv(\"WORKSPACE\")"
   ]
  },
  {
   "cell_type": "code",
   "execution_count": null,
   "id": "c8192bb96deb6d90",
   "metadata": {
    "ExecuteTime": {
     "end_time": "2024-09-29T19:06:39.147719Z",
     "start_time": "2024-09-29T19:06:39.143523Z"
    }
   },
   "outputs": [],
   "source": [
    "%cd $WORKSPACE"
   ]
  },
  {
   "cell_type": "code",
   "execution_count": null,
   "id": "4339bfb5d31e710a",
   "metadata": {},
   "outputs": [],
   "source": [
    "!python launch.py --always-high-vram --share #--reinstall-torch"
   ]
  }
 ],
 "metadata": {
  "kernelspec": {
   "display_name": "Python 3",
   "language": "python",
   "name": "python3"
  },
  "language_info": {
   "codemirror_mode": {
    "name": "ipython",
    "version": 2
   },
   "file_extension": ".py",
   "mimetype": "text/x-python",
   "name": "python",
   "nbconvert_exporter": "python",
   "pygments_lexer": "ipython2",
   "version": "2.7.6"
  }
 },
 "nbformat": 4,
 "nbformat_minor": 5
}
