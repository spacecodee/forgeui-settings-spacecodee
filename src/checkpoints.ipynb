{
 "cells": [
  {
   "cell_type": "code",
   "execution_count": 9,
   "metadata": {},
   "outputs": [],
   "source": [
    "# Configure the workspace path\n",
    "# importing the .env file and setting the workspace path\n",
    "import os\n",
    "from dotenv import load_dotenv\n",
    "\n",
    "load_dotenv()\n",
    "\n",
    "# setting the workspace path\n",
    "WORKSPACE_MY_LORAS = os.getenv(\"WORKSPACE_MY_LORAS\")"
   ]
  },
  {
   "cell_type": "code",
   "execution_count": null,
   "metadata": {},
   "outputs": [],
   "source": [
    "%cd $WORKSPACE_MY_LORAS"
   ]
  },
  {
   "cell_type": "code",
   "execution_count": null,
   "metadata": {},
   "outputs": [],
   "source": [
    "!wget -O juggernautXL_juggXIByRundiffusion.safetensors \"https://civitai.com/api/download/models/782002?type=Model&format=SafeTensor&size=full&fp=fp16&token=7cc875459939c6af418c9c64fa0dd099\"\n",
    "!wget -O realvisxlV50_v50Bakedvae.safetensors \"https://civitai.com/api/download/models/789646?type=Model&format=SafeTensor&size=full&fp=fp32&token=7cc875459939c6af418c9c64fa0dd099\""
   ]
  }
 ],
 "metadata": {
  "language_info": {
   "name": "python"
  }
 },
 "nbformat": 4,
 "nbformat_minor": 2
}
